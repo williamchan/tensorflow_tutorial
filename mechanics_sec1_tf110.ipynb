{
 "cells": [
  {
   "cell_type": "markdown",
   "metadata": {
    "deletable": true,
    "editable": true
   },
   "source": [
    "# Module 3 - TensorFlow Mechanics 101\n",
    "\n",
    "This is step-by-step follow along based on Google's Tensorflow Tutorial.\n",
    "\n",
    "[TensorFlow Mechanics 101](https://www.tensorflow.org/get_started/mnist/mechanics)\n",
    "\n",
    "The tutorial is structured to go over python codes which was supposed to be run from the command line:\n",
    "\n",
    "python fully_connected_feed.py\n",
    "\n",
    "There are many Python and TensorFlow programming concepts which I want to explore in greater detail. So I am re-doing this section in Jupyter Notebook.\n",
    "\n",
    "This first section deals with Python's argparse module. It is important to master this because it will enable me to write userfriendly command-line interfaces for Python scripts.\n"
   ]
  },
  {
   "cell_type": "markdown",
   "metadata": {
    "deletable": true,
    "editable": true
   },
   "source": [
    "## SECTION 1 - argparse\n",
    "\n",
    "The argparse module is used to write user-friendly command-line interfaces. \n",
    "\n",
    "The program defines what arguments it requires, and argparse will figure out how to parse those out of sys.argv. \n",
    "\n",
    "The argparse module automatically generates help and usage messages and issues errors when users give the program invalid arguments."
   ]
  },
  {
   "cell_type": "code",
   "execution_count": null,
   "metadata": {
    "collapsed": true,
    "deletable": true,
    "editable": true
   },
   "outputs": [],
   "source": [
    "\"\"\"Functions for downloading and reading MNIST data.\"\"\"\n",
    "\n",
    "# These 3 lines provides backward compatibility with older Python versions from Python 3 code\n",
    "from __future__ import absolute_import\n",
    "from __future__ import division\n",
    "from __future__ import print_function\n",
    "\n",
    "# six is a package that helps in writing code that is compatible with both Python 2 and Python 3.\n",
    "from six.moves import urllib\n",
    "from six.moves import xrange  # pylint: disable=redefined-builtin\n",
    "\n",
    "import gzip\n",
    "import os\n",
    "import sys\n",
    "import time\n",
    "import math\n",
    "import tempfile\n",
    "import argparse\n",
    "import numpy\n",
    "import tensorflow as tf\n",
    "\n",
    "# The mnist read_data_sets() function will be used in full_connected_feed.py to download mnist dataset\n",
    "# to your local training folder and to then unpack that data to return a dictionary of DataSet instances.\n",
    "from tensorflow.contrib.learn.python.learn.datasets.mnist import read_data_sets\n",
    "from tensorflow.examples.tutorials.mnist import input_data\n",
    "from tensorflow.examples.tutorials.mnist import mnist"
   ]
  },
  {
   "cell_type": "code",
   "execution_count": null,
   "metadata": {
    "collapsed": true,
    "deletable": true,
    "editable": true
   },
   "outputs": [],
   "source": [
    "import argparse\n",
    "\n",
    "# The first step in using the argparse is creating an ArgumentParser object, which will hold \n",
    "# all the information necessary to parse the command line into Python data types.\n",
    "parser = argparse.ArgumentParser(description='Process some integers.')"
   ]
  },
  {
   "cell_type": "code",
   "execution_count": null,
   "metadata": {
    "collapsed": false,
    "deletable": true,
    "editable": true
   },
   "outputs": [],
   "source": [
    "# these calls tell the ArgumentParser how to take the strings on the command line and turn them into objects.\n",
    "parser.add_argument('integers', metavar='N', type=int, nargs='+',\n",
    "                    help='an integer for the accumulator')\n",
    "parser.add_argument('--sum', dest='accumulate', action='store_const',\n",
    "                    const=sum, default=max,\n",
    "                    help='sum the integers (default: find the max)')"
   ]
  },
  {
   "cell_type": "code",
   "execution_count": null,
   "metadata": {
    "collapsed": false,
    "deletable": true,
    "editable": true
   },
   "outputs": [],
   "source": [
    "# parse_args() builds a Namespace object from attributes parsed out of the command line\n",
    "\n",
    "parser.parse_args(['--sum', '7', '-1', '42'])"
   ]
  },
  {
   "cell_type": "markdown",
   "metadata": {
    "deletable": true,
    "editable": true
   },
   "source": [
    "## Printing out the Help Message\n",
    "\n",
    "Assuming the Python code above is saved into a file called prog.py, it can be run at the command line and provides useful help messages:\n",
    "\n",
    "```sh\n",
    "python prog.py -h\n",
    "usage: prog.py [-h] [--sum] N [N ...]\n",
    "\n",
    "Process some integers.\n",
    "\n",
    "positional arguments:\n",
    " N           an integer for the accumulator\n",
    "\n",
    "optional arguments:\n",
    " -h, --help  show this help message and exit\n",
    " --sum       sum the integers (default: find the max)\n",
    "```"
   ]
  },
  {
   "cell_type": "code",
   "execution_count": null,
   "metadata": {
    "collapsed": false,
    "deletable": true,
    "editable": true
   },
   "outputs": [],
   "source": [
    "parser.print_help()"
   ]
  },
  {
   "cell_type": "markdown",
   "metadata": {
    "deletable": true,
    "editable": true
   },
   "source": [
    "## add_argument() method\n",
    "\n",
    "The add_argument() method must know whether an optional argument, like -f or --foo, or a positional argument, like a list of filenames, is expected. \n",
    "\n",
    "When parse_args() is called, optional arguments will be identified by the - prefix, and the remaining arguments will be assumed to be positional."
   ]
  },
  {
   "cell_type": "code",
   "execution_count": null,
   "metadata": {
    "collapsed": false,
    "deletable": true,
    "editable": true
   },
   "outputs": [],
   "source": [
    "parser = argparse.ArgumentParser(prog='PROG')\n",
    "parser.add_argument('-f', '--foo')\n",
    "parser.add_argument('bar')"
   ]
  },
  {
   "cell_type": "code",
   "execution_count": null,
   "metadata": {
    "collapsed": false,
    "deletable": true,
    "editable": true
   },
   "outputs": [],
   "source": [
    "parser.parse_args(['BAR'])"
   ]
  },
  {
   "cell_type": "code",
   "execution_count": null,
   "metadata": {
    "collapsed": false,
    "deletable": true,
    "editable": true
   },
   "outputs": [],
   "source": [
    "parser.parse_args(['BAR', '--foo', 'FOO'])"
   ]
  },
  {
   "cell_type": "code",
   "execution_count": null,
   "metadata": {
    "collapsed": false,
    "deletable": true,
    "editable": true
   },
   "outputs": [],
   "source": [
    "parser.parse_args(['--foo', 'FOO'])"
   ]
  },
  {
   "cell_type": "markdown",
   "metadata": {
    "deletable": true,
    "editable": true
   },
   "source": [
    "## action\n",
    "\n",
    "The action keyword argument specifies how the command-line arguments should be handled."
   ]
  },
  {
   "cell_type": "code",
   "execution_count": null,
   "metadata": {
    "collapsed": false,
    "deletable": true,
    "editable": true
   },
   "outputs": [],
   "source": [
    "parser = argparse.ArgumentParser()\n",
    "\n",
    "# action='store_const' - stores the value specified by the const keyword argument\n",
    "parser.add_argument('--foo', action='store_const', const=42)\n",
    "parser.parse_args(['--foo'])\n"
   ]
  },
  {
   "cell_type": "code",
   "execution_count": null,
   "metadata": {
    "collapsed": false,
    "deletable": true,
    "editable": true
   },
   "outputs": [],
   "source": [
    "parser = argparse.ArgumentParser()\n",
    "parser.add_argument('--foo', action='store_true')\n",
    "parser.add_argument('--bar', action='store_false')\n",
    "parser.add_argument('--baz', action='store_false')  # If not called, baz= True\n",
    "parser.parse_args('--foo --bar'.split())"
   ]
  },
  {
   "cell_type": "markdown",
   "metadata": {
    "deletable": true,
    "editable": true
   },
   "source": [
    "## nargs\n",
    "\n",
    "nargs is more complicated.\n",
    "\n",
    "nargs=N (where N is a number) is rather intuitive!!!"
   ]
  },
  {
   "cell_type": "code",
   "execution_count": null,
   "metadata": {
    "collapsed": false,
    "deletable": true,
    "editable": true
   },
   "outputs": [],
   "source": [
    "parser = argparse.ArgumentParser()\n",
    "\n",
    "# nargs=N - N arguments from the command line will be gathered together into a list\n",
    "parser.add_argument('--foo', nargs=2)\n",
    "parser.add_argument('bar', nargs=1)\n",
    "parser.parse_args('c --foo a b'.split())"
   ]
  },
  {
   "cell_type": "markdown",
   "metadata": {
    "deletable": true,
    "editable": true
   },
   "source": [
    "## nargs='?'\n",
    "\n",
    "\n",
    "1. One argument will be consumed from the command line if possible, and produced as a single item. \n",
    "\n",
    "2. If no command-line argument is present, the value from default will be produced. \n",
    "\n",
    "3. For optional arguments, there is an additional case - the option string is present but not followed by a command-line argument. In this case the value from const will be produced."
   ]
  },
  {
   "cell_type": "code",
   "execution_count": null,
   "metadata": {
    "collapsed": false,
    "deletable": true,
    "editable": true
   },
   "outputs": [],
   "source": [
    "parser = argparse.ArgumentParser()\n",
    "\n",
    "parser.add_argument('--foo', nargs='?', const='c', default='d')\n",
    "parser.add_argument('bar', nargs='?', default='d')"
   ]
  },
  {
   "cell_type": "code",
   "execution_count": null,
   "metadata": {
    "collapsed": false,
    "deletable": true,
    "editable": true
   },
   "outputs": [],
   "source": [
    "# One argument will be consumed from the command line if possible, and produced as a single item\n",
    "parser.parse_args(['XX', '--foo', 'YY'])"
   ]
  },
  {
   "cell_type": "code",
   "execution_count": null,
   "metadata": {
    "collapsed": false,
    "deletable": true,
    "editable": true
   },
   "outputs": [],
   "source": [
    "# For optional arguments, if the option string is present but not followed by a command-line argument,\n",
    "# then the value from const will be produced.\n",
    "parser.parse_args(['XX', '--foo'])"
   ]
  },
  {
   "cell_type": "code",
   "execution_count": null,
   "metadata": {
    "collapsed": false,
    "deletable": true,
    "editable": true
   },
   "outputs": [],
   "source": [
    "# If no command-line argument is present, the value from default will be produced.\n",
    "parser.parse_args([])"
   ]
  },
  {
   "cell_type": "markdown",
   "metadata": {
    "deletable": true,
    "editable": true
   },
   "source": [
    "## Optional input and output files\n",
    "\n",
    "A common use of nargs='?' is to allow optional input and output files:"
   ]
  },
  {
   "cell_type": "code",
   "execution_count": null,
   "metadata": {
    "collapsed": false,
    "deletable": true,
    "editable": true
   },
   "outputs": [],
   "source": [
    "import sys\n",
    "\n",
    "parser = argparse.ArgumentParser()\n",
    "parser.add_argument('infile', nargs='?', type=argparse.FileType('r'),\n",
    "                     default=sys.stdin)\n",
    "parser.add_argument('outfile', nargs='?', type=argparse.FileType('w'),\n",
    "                     default=sys.stdout)\n",
    "parser.parse_args(['mechanics/input.txt', 'mechanics/output.txt'])"
   ]
  },
  {
   "cell_type": "code",
   "execution_count": null,
   "metadata": {
    "collapsed": false,
    "deletable": true,
    "editable": true
   },
   "outputs": [],
   "source": [
    "parser.parse_args([])"
   ]
  },
  {
   "cell_type": "markdown",
   "metadata": {
    "deletable": true,
    "editable": true
   },
   "source": [
    "## nargs='*' or '+'\n",
    "\n",
    "All command-line arguments present are gathered into a list."
   ]
  },
  {
   "cell_type": "code",
   "execution_count": null,
   "metadata": {
    "collapsed": false,
    "deletable": true,
    "editable": true
   },
   "outputs": [],
   "source": [
    "parser = argparse.ArgumentParser(prog='PROG')\n",
    "parser.add_argument('foo', nargs='+')\n",
    "parser.parse_args(['a', 'b'])"
   ]
  },
  {
   "cell_type": "markdown",
   "metadata": {
    "deletable": true,
    "editable": true
   },
   "source": [
    "## default\n",
    "\n",
    "The default keyword argument of add_argument(), whose value defaults to None, specifies what value should be used if the command-line argument is not present. \n",
    "\n",
    "For optional arguments, the default value is used when the option string was not present at the command line"
   ]
  },
  {
   "cell_type": "code",
   "execution_count": null,
   "metadata": {
    "collapsed": false,
    "deletable": true,
    "editable": true
   },
   "outputs": [],
   "source": [
    "parser = argparse.ArgumentParser()\n",
    "parser.add_argument('--foo', default=42)\n",
    "parser.parse_args(['--foo', '2'])"
   ]
  },
  {
   "cell_type": "code",
   "execution_count": null,
   "metadata": {
    "collapsed": false,
    "deletable": true,
    "editable": true
   },
   "outputs": [],
   "source": [
    "parser.parse_args([])"
   ]
  },
  {
   "cell_type": "markdown",
   "metadata": {
    "deletable": true,
    "editable": true
   },
   "source": [
    "## type\n",
    "\n",
    "The type keyword argument of add_argument() allows any necessary type-checking and type conversions to be performed."
   ]
  },
  {
   "cell_type": "code",
   "execution_count": null,
   "metadata": {
    "collapsed": false,
    "deletable": true,
    "editable": true
   },
   "outputs": [],
   "source": [
    "parser = argparse.ArgumentParser(prog='PROG')\n",
    "parser.add_argument('--height', default='10')\n",
    "# the parser applies any type conversion argument before setting the attribute on the Namespace return value\n",
    "parser.add_argument('--length', default='10', type = int) \n",
    "parser.add_argument('--width', default=10.5, type = int)\n",
    "parser.parse_args([])"
   ]
  },
  {
   "cell_type": "markdown",
   "metadata": {
    "deletable": true,
    "editable": true
   },
   "source": [
    "## type=callable\n",
    "\n",
    "type can take any callable that takes a single string argument and returns the converted value. This is a neat trick!!!"
   ]
  },
  {
   "cell_type": "code",
   "execution_count": null,
   "metadata": {
    "collapsed": false,
    "deletable": true,
    "editable": true
   },
   "outputs": [],
   "source": [
    "import math\n",
    "\n",
    "def perfect_square(string):\n",
    "    value = int(string)\n",
    "    sqrt = math.sqrt(value)\n",
    "    if sqrt != int(sqrt):\n",
    "        msg = \"%r is not a perfect square\" % string\n",
    "        raise argparse.ArgumentTypeError(msg)\n",
    "    return value\n",
    "\n",
    "parser = argparse.ArgumentParser(prog='PROG')\n",
    "parser.add_argument('foo', type=perfect_square)\n",
    "parser.parse_args(['9'])"
   ]
  },
  {
   "cell_type": "code",
   "execution_count": null,
   "metadata": {
    "collapsed": false,
    "deletable": true,
    "editable": true
   },
   "outputs": [],
   "source": [
    "parser.parse_args(['18'])"
   ]
  },
  {
   "cell_type": "markdown",
   "metadata": {
    "deletable": true,
    "editable": true
   },
   "source": [
    "## choice\n",
    "\n",
    "The choices keyword argument can be used to check against a range of values:"
   ]
  },
  {
   "cell_type": "code",
   "execution_count": null,
   "metadata": {
    "collapsed": false,
    "deletable": true,
    "editable": true
   },
   "outputs": [],
   "source": [
    "parser = argparse.ArgumentParser(prog='game.py')\n",
    "parser.add_argument('move', choices=['rock', 'paper', 'scissors'])\n",
    "parser.parse_args(['rock'])\n"
   ]
  },
  {
   "cell_type": "code",
   "execution_count": null,
   "metadata": {
    "collapsed": false,
    "deletable": true,
    "editable": true
   },
   "outputs": [],
   "source": [
    "parser.parse_args(['fire'])"
   ]
  },
  {
   "cell_type": "code",
   "execution_count": null,
   "metadata": {
    "collapsed": false,
    "deletable": true,
    "editable": true
   },
   "outputs": [],
   "source": [
    "parser = argparse.ArgumentParser(prog='doors.py')\n",
    "parser.add_argument('door', type=int, choices=range(1, 4))\n",
    "print(parser.parse_args(['3']))\n"
   ]
  },
  {
   "cell_type": "code",
   "execution_count": null,
   "metadata": {
    "collapsed": false,
    "deletable": true,
    "editable": true
   },
   "outputs": [],
   "source": [
    "print(parser.parse_args(['4']))"
   ]
  },
  {
   "cell_type": "markdown",
   "metadata": {
    "deletable": true,
    "editable": true
   },
   "source": [
    "## required\n",
    "\n",
    "In general, the argparse module assumes that flags like -f and --bar indicate optional arguments.\n",
    "\n",
    "To make an option required, True can be specified for the required= keyword argument to add_argument()"
   ]
  },
  {
   "cell_type": "code",
   "execution_count": null,
   "metadata": {
    "collapsed": false,
    "deletable": true,
    "editable": true
   },
   "outputs": [],
   "source": [
    "parser = argparse.ArgumentParser()\n",
    "parser.add_argument('--foo', required=True)\n",
    "parser.parse_args([])"
   ]
  },
  {
   "cell_type": "markdown",
   "metadata": {
    "deletable": true,
    "editable": true
   },
   "source": [
    "## help\n",
    "\n",
    "When a user requests help (usually by using -h or --help at the command line), these help descriptions will be displayed with each argument."
   ]
  },
  {
   "cell_type": "code",
   "execution_count": null,
   "metadata": {
    "collapsed": false,
    "deletable": true,
    "editable": true
   },
   "outputs": [],
   "source": [
    "parser = argparse.ArgumentParser()\n",
    "parser.add_argument('--foo', action='store_true',\n",
    "                     help='foo the bars before frobbling')\n",
    "parser.add_argument('bar', nargs='+',\n",
    "                     help='one of the bars to be frobbled')\n",
    "parser.parse_args(['BAR', 'NONe'])"
   ]
  },
  {
   "cell_type": "code",
   "execution_count": null,
   "metadata": {
    "collapsed": false,
    "deletable": true,
    "editable": true
   },
   "outputs": [],
   "source": [
    "parser.parse_args(['--h'])"
   ]
  },
  {
   "cell_type": "markdown",
   "metadata": {
    "deletable": true,
    "editable": true
   },
   "source": [
    "## parse_args() method\n",
    "\n",
    "Convert argument strings to objects and assign them as attributes of the namespace. Return the populated namespace. By default, the argument strings are taken from sys.argv, and a new empty Namespace object is created for the attributes.\n",
    "\n",
    "The parse_args() method supports several ways of specifying the value of an option:"
   ]
  },
  {
   "cell_type": "code",
   "execution_count": null,
   "metadata": {
    "collapsed": false,
    "deletable": true,
    "editable": true
   },
   "outputs": [],
   "source": [
    "parser = argparse.ArgumentParser(prog='PROG')\n",
    "parser.add_argument('-x')\n",
    "parser.add_argument('--foo')\n",
    "parser.parse_args(['-x', 'X'])"
   ]
  },
  {
   "cell_type": "code",
   "execution_count": null,
   "metadata": {
    "collapsed": false,
    "deletable": true,
    "editable": true
   },
   "outputs": [],
   "source": [
    "parser.parse_args(['--foo=FOO'])"
   ]
  },
  {
   "cell_type": "markdown",
   "metadata": {
    "deletable": true,
    "editable": true
   },
   "source": [
    "## namespace=object\n",
    "It may also be useful to have an ArgumentParser assign attributes to an already existing object, rather than a new Namespace object. This can be achieved by specifying the namespace= keyword argument.\n",
    "\n",
    "A rather neat trick!!!"
   ]
  },
  {
   "cell_type": "code",
   "execution_count": null,
   "metadata": {
    "collapsed": false,
    "deletable": true,
    "editable": true
   },
   "outputs": [],
   "source": [
    "class C(object):\n",
    "    pass\n",
    "\n",
    "c = C()\n",
    "parser = argparse.ArgumentParser()\n",
    "parser.add_argument('--foo')\n",
    "parser.parse_args(args=['--foo', 'BAR'], namespace=c)\n",
    "\n",
    "# This is rather cool!!!!\n",
    "c.foo"
   ]
  },
  {
   "cell_type": "markdown",
   "metadata": {
    "deletable": true,
    "editable": true
   },
   "source": [
    "## fully_connected_feed.py\n",
    "\n",
    "The following code implements the command-line interface for fully_connected_feed.py."
   ]
  },
  {
   "cell_type": "code",
   "execution_count": null,
   "metadata": {
    "collapsed": false,
    "deletable": true,
    "editable": true
   },
   "outputs": [],
   "source": [
    "parser = argparse.ArgumentParser()\n",
    "    \n",
    "parser.add_argument(\n",
    "      '--learning_rate',\n",
    "      type=float,\n",
    "      default=0.01,\n",
    "      help='Initial learning rate.'\n",
    ")\n",
    "\n",
    "parser.add_argument(\n",
    "      '--max_steps',\n",
    "      type=int,\n",
    "      default=10000,\n",
    "      help='Number of steps to run trainer.'\n",
    ")\n",
    "    \n",
    "parser.add_argument(\n",
    "      '--hidden1',\n",
    "      type=int,\n",
    "      default=128,\n",
    "      help='Number of units in hidden layer 1.'\n",
    ")\n",
    "\n",
    "parser.add_argument(\n",
    "      '--hidden2',\n",
    "      type=int,\n",
    "      default=32,\n",
    "      help='Number of units in hidden layer 2.'\n",
    ")\n",
    "    \n",
    "parser.add_argument(\n",
    "      '--batch_size',\n",
    "      type=int,\n",
    "      default=100,\n",
    "      help='Batch size.  Must divide evenly into the dataset sizes.'\n",
    ")\n",
    "\n",
    "parser.add_argument(\n",
    "      '--input_data_dir',\n",
    "      type=str,\n",
    "      default='/tmp/tensorflow/mnist/input_data',\n",
    "      help='Directory to put the input data.'\n",
    ")\n",
    "    \n",
    "parser.add_argument(\n",
    "      '--log_dir',\n",
    "      type=str,\n",
    "      default='/tmp/tensorflow/mnist/logs/fully_connected_feed',\n",
    "      help='Directory to put the log data.'\n",
    ")\n",
    "\n",
    "parser.add_argument(\n",
    "      '--fake_data',\n",
    "      default=False,\n",
    "      help='If true, uses fake data for unit testing.',\n",
    "      action='store_true'\n",
    ")\n",
    "\n",
    "\n"
   ]
  },
  {
   "cell_type": "code",
   "execution_count": null,
   "metadata": {
    "collapsed": false,
    "deletable": true,
    "editable": true
   },
   "outputs": [],
   "source": [
    "parser.print_help()"
   ]
  },
  {
   "cell_type": "code",
   "execution_count": null,
   "metadata": {
    "collapsed": false,
    "deletable": true,
    "editable": true
   },
   "outputs": [],
   "source": [
    "# Sometimes a script may only parse a few of the command-line arguments, passing the remaining arguments on to another \n",
    "# script or program. parse_known_args() returns a two item tuple containing the populated namespace (into FLAG) and the\n",
    "# list of remaining argument strings.\n",
    "FLAGS, unparsed = parser.parse_known_args(['--max_steps','2000'])\n",
    "\n",
    "# FLAGS is the Namespace which stores all the parameters\n",
    "\n",
    "FLAGS"
   ]
  },
  {
   "cell_type": "code",
   "execution_count": null,
   "metadata": {
    "collapsed": false,
    "deletable": true,
    "editable": true
   },
   "outputs": [],
   "source": [
    "unparsed"
   ]
  },
  {
   "cell_type": "markdown",
   "metadata": {
    "deletable": true,
    "editable": true
   },
   "source": [
    "## Implemented in command_line.py\n",
    "\n",
    "It works as advertised!!!\n",
    "\n",
    "```sh\n",
    "$ python ./mechanics/command_line.py --help \n",
    "usage: command_line.py [-h] [--learning_rate LEARNING_RATE]\n",
    "                       [--max_steps MAX_STEPS] [--hidden1 HIDDEN1]\n",
    "                       [--hidden2 HIDDEN2] [--batch_size BATCH_SIZE]\n",
    "                       [--input_data_dir INPUT_DATA_DIR] [--log_dir LOG_DIR]\n",
    "                       [--fake_data]\n",
    "\n",
    "optional arguments:\n",
    "  -h, --help            show this help message and exit\n",
    "  --learning_rate LEARNING_RATE\n",
    "                        Initial learning rate.\n",
    "  --max_steps MAX_STEPS\n",
    "                        Number of steps to run trainer.\n",
    "  --hidden1 HIDDEN1     Number of units in hidden layer 1.\n",
    "  --hidden2 HIDDEN2     Number of units in hidden layer 2.\n",
    "  --batch_size BATCH_SIZE\n",
    "                        Batch size. Must divide evenly into the dataset sizes.\n",
    "  --input_data_dir INPUT_DATA_DIR\n",
    "                        Directory to put the input data.\n",
    "  --log_dir LOG_DIR     Directory to put the log data.\n",
    "  --fake_data           If true, uses fake data for unit testing.\n",
    "```\n",
    "\n",
    "```sh\n",
    "$ python3 ./mechanics/command_line.py\n",
    "This script is being run directly\n",
    "There is no code yet in this python file!!!\n",
    "```"
   ]
  },
  {
   "cell_type": "code",
   "execution_count": null,
   "metadata": {
    "collapsed": true,
    "deletable": true,
    "editable": true
   },
   "outputs": [],
   "source": []
  }
 ],
 "metadata": {
  "kernelspec": {
   "display_name": "Python 2",
   "language": "python",
   "name": "python2"
  },
  "language_info": {
   "codemirror_mode": {
    "name": "ipython",
    "version": 2
   },
   "file_extension": ".py",
   "mimetype": "text/x-python",
   "name": "python",
   "nbconvert_exporter": "python",
   "pygments_lexer": "ipython2",
   "version": "2.7.10"
  }
 },
 "nbformat": 4,
 "nbformat_minor": 2
}
