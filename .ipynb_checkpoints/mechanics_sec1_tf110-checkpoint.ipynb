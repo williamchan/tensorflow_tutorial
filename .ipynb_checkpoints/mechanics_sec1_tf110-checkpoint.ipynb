{
 "cells": [
  {
   "cell_type": "markdown",
   "metadata": {},
   "source": [
    "# Module 3 - TensorFlow Mechanics 101\n",
    "\n",
    "This is step-by-step follow along based on Google's Tensorflow Tutorial.\n",
    "\n",
    "[TensorFlow Mechanics 101](https://www.tensorflow.org/get_started/mnist/mechanics)\n",
    "\n",
    "The tutorial is structured to go over python codes which was supposed to be run from the command line:\n",
    "\n",
    "python fully_connected_feed.py\n",
    "\n",
    "There are many Python and TensorFlow programming concepts which I want to explore in greater detail. So I am re-doing this section in Jupyter Notebook.\n",
    "\n",
    "This first section deals with Python's argparse module. It is important to master this because it will enable me to write userfriendly command-line interfaces for Python scripts.\n"
   ]
  },
  {
   "cell_type": "markdown",
   "metadata": {},
   "source": [
    "## SECTION 1 - argparse\n",
    "\n",
    "The argparse module is used to write user-friendly command-line interfaces. \n",
    "\n",
    "The program defines what arguments it requires, and argparse will figure out how to parse those out of sys.argv. \n",
    "\n",
    "The argparse module automatically generates help and usage messages and issues errors when users give the program invalid arguments."
   ]
  },
  {
   "cell_type": "code",
   "execution_count": 1,
   "metadata": {
    "collapsed": true
   },
   "outputs": [],
   "source": [
    "\"\"\"Functions for downloading and reading MNIST data.\"\"\"\n",
    "\n",
    "# These 3 lines provides backward compatibility with older Python versions from Python 3 code\n",
    "from __future__ import absolute_import\n",
    "from __future__ import division\n",
    "from __future__ import print_function\n",
    "\n",
    "# six is a package that helps in writing code that is compatible with both Python 2 and Python 3.\n",
    "from six.moves import urllib\n",
    "from six.moves import xrange  # pylint: disable=redefined-builtin\n",
    "\n",
    "import gzip\n",
    "import os\n",
    "import sys\n",
    "import time\n",
    "import math\n",
    "import tempfile\n",
    "import argparse\n",
    "import numpy\n",
    "import tensorflow as tf\n",
    "\n",
    "# The mnist read_data_sets() function will be used in full_connected_feed.py to download mnist dataset\n",
    "# to your local training folder and to then unpack that data to return a dictionary of DataSet instances.\n",
    "from tensorflow.contrib.learn.python.learn.datasets.mnist import read_data_sets\n",
    "from tensorflow.examples.tutorials.mnist import input_data\n",
    "from tensorflow.examples.tutorials.mnist import mnist"
   ]
  },
  {
   "cell_type": "code",
   "execution_count": 5,
   "metadata": {
    "collapsed": true
   },
   "outputs": [],
   "source": [
    "import argparse\n",
    "\n",
    "# The first step in using the argparse is creating an ArgumentParser object, which will hold \n",
    "# all the information necessary to parse the command line into Python data types.\n",
    "parser = argparse.ArgumentParser(description='Process some integers.')"
   ]
  },
  {
   "cell_type": "code",
   "execution_count": 6,
   "metadata": {},
   "outputs": [
    {
     "data": {
      "text/plain": [
       "_StoreConstAction(option_strings=['--sum'], dest='accumulate', nargs=0, const=<built-in function sum>, default=<built-in function max>, type=None, choices=None, help='sum the integers (default: find the max)', metavar=None)"
      ]
     },
     "execution_count": 6,
     "metadata": {},
     "output_type": "execute_result"
    }
   ],
   "source": [
    "# these calls tell the ArgumentParser how to take the strings on the command line and turn them into objects.\n",
    "parser.add_argument('integers', metavar='N', type=int, nargs='+',\n",
    "                    help='an integer for the accumulator')\n",
    "parser.add_argument('--sum', dest='accumulate', action='store_const',\n",
    "                    const=sum, default=max,\n",
    "                    help='sum the integers (default: find the max)')"
   ]
  },
  {
   "cell_type": "code",
   "execution_count": 7,
   "metadata": {},
   "outputs": [
    {
     "data": {
      "text/plain": [
       "Namespace(accumulate=<built-in function sum>, integers=[7, -1, 42])"
      ]
     },
     "execution_count": 7,
     "metadata": {},
     "output_type": "execute_result"
    }
   ],
   "source": [
    "# parse_args() builds a Namespace object from attributes parsed out of the command line\n",
    "\n",
    "parser.parse_args(['--sum', '7', '-1', '42'])"
   ]
  },
  {
   "cell_type": "markdown",
   "metadata": {},
   "source": [
    "## Printing out the Help Message\n",
    "\n",
    "Assuming the Python code above is saved into a file called prog.py, it can be run at the command line and provides useful help messages:\n",
    "\n",
    "```sh\n",
    "python prog.py -h\n",
    "usage: prog.py [-h] [--sum] N [N ...]\n",
    "\n",
    "Process some integers.\n",
    "\n",
    "positional arguments:\n",
    " N           an integer for the accumulator\n",
    "\n",
    "optional arguments:\n",
    " -h, --help  show this help message and exit\n",
    " --sum       sum the integers (default: find the max)\n",
    "```"
   ]
  },
  {
   "cell_type": "code",
   "execution_count": 8,
   "metadata": {},
   "outputs": [
    {
     "name": "stdout",
     "output_type": "stream",
     "text": [
      "usage: ipykernel_launcher.py [-h] [--sum] N [N ...]\n",
      "\n",
      "Process some integers.\n",
      "\n",
      "positional arguments:\n",
      "  N           an integer for the accumulator\n",
      "\n",
      "optional arguments:\n",
      "  -h, --help  show this help message and exit\n",
      "  --sum       sum the integers (default: find the max)\n"
     ]
    }
   ],
   "source": [
    "parser.print_help()"
   ]
  },
  {
   "cell_type": "markdown",
   "metadata": {},
   "source": [
    "## add_argument() method\n",
    "\n",
    "The add_argument() method must know whether an optional argument, like -f or --foo, or a positional argument, like a list of filenames, is expected. \n",
    "\n",
    "When parse_args() is called, optional arguments will be identified by the - prefix, and the remaining arguments will be assumed to be positional."
   ]
  },
  {
   "cell_type": "code",
   "execution_count": 9,
   "metadata": {},
   "outputs": [
    {
     "data": {
      "text/plain": [
       "_StoreAction(option_strings=[], dest='bar', nargs=None, const=None, default=None, type=None, choices=None, help=None, metavar=None)"
      ]
     },
     "execution_count": 9,
     "metadata": {},
     "output_type": "execute_result"
    }
   ],
   "source": [
    "parser = argparse.ArgumentParser(prog='PROG')\n",
    "parser.add_argument('-f', '--foo')\n",
    "parser.add_argument('bar')"
   ]
  },
  {
   "cell_type": "code",
   "execution_count": 10,
   "metadata": {},
   "outputs": [
    {
     "data": {
      "text/plain": [
       "Namespace(bar='BAR', foo=None)"
      ]
     },
     "execution_count": 10,
     "metadata": {},
     "output_type": "execute_result"
    }
   ],
   "source": [
    "parser.parse_args(['BAR'])"
   ]
  },
  {
   "cell_type": "code",
   "execution_count": 11,
   "metadata": {},
   "outputs": [
    {
     "data": {
      "text/plain": [
       "Namespace(bar='BAR', foo='FOO')"
      ]
     },
     "execution_count": 11,
     "metadata": {},
     "output_type": "execute_result"
    }
   ],
   "source": [
    "parser.parse_args(['BAR', '--foo', 'FOO'])"
   ]
  },
  {
   "cell_type": "code",
   "execution_count": 12,
   "metadata": {},
   "outputs": [
    {
     "name": "stderr",
     "output_type": "stream",
     "text": [
      "usage: PROG [-h] [-f FOO] bar\n",
      "PROG: error: the following arguments are required: bar\n"
     ]
    },
    {
     "ename": "SystemExit",
     "evalue": "2",
     "output_type": "error",
     "traceback": [
      "An exception has occurred, use %tb to see the full traceback.\n",
      "\u001b[0;31mSystemExit\u001b[0m\u001b[0;31m:\u001b[0m 2\n"
     ]
    },
    {
     "name": "stderr",
     "output_type": "stream",
     "text": [
      "/usr/local/lib/python3.5/dist-packages/IPython/core/interactiveshell.py:2870: UserWarning: To exit: use 'exit', 'quit', or Ctrl-D.\n",
      "  warn(\"To exit: use 'exit', 'quit', or Ctrl-D.\", stacklevel=1)\n"
     ]
    }
   ],
   "source": [
    "parser.parse_args(['--foo', 'FOO'])"
   ]
  },
  {
   "cell_type": "markdown",
   "metadata": {},
   "source": [
    "## action\n",
    "\n",
    "The action keyword argument specifies how the command-line arguments should be handled."
   ]
  },
  {
   "cell_type": "code",
   "execution_count": 16,
   "metadata": {},
   "outputs": [
    {
     "data": {
      "text/plain": [
       "Namespace(foo=42)"
      ]
     },
     "execution_count": 16,
     "metadata": {},
     "output_type": "execute_result"
    }
   ],
   "source": [
    "parser = argparse.ArgumentParser()\n",
    "\n",
    "# action='store_const' - stores the value specified by the const keyword argument\n",
    "parser.add_argument('--foo', action='store_const', const=42)\n",
    "parser.parse_args(['--foo'])\n"
   ]
  },
  {
   "cell_type": "code",
   "execution_count": 65,
   "metadata": {},
   "outputs": [
    {
     "data": {
      "text/plain": [
       "Namespace(bar=False, baz=True, foo=True)"
      ]
     },
     "execution_count": 65,
     "metadata": {},
     "output_type": "execute_result"
    }
   ],
   "source": [
    "parser = argparse.ArgumentParser()\n",
    "parser.add_argument('--foo', action='store_true')\n",
    "parser.add_argument('--bar', action='store_false')\n",
    "parser.add_argument('--baz', action='store_false')  # If not called, baz= True\n",
    "parser.parse_args('--foo --bar'.split())"
   ]
  },
  {
   "cell_type": "markdown",
   "metadata": {},
   "source": [
    "## nargs\n",
    "\n",
    "nargs is more complicated.\n",
    "\n",
    "nargs=N (where N is a number) is rather intuitive!!!"
   ]
  },
  {
   "cell_type": "code",
   "execution_count": 49,
   "metadata": {},
   "outputs": [
    {
     "data": {
      "text/plain": [
       "Namespace(bar=['c'], foo=['a', 'b'])"
      ]
     },
     "execution_count": 49,
     "metadata": {},
     "output_type": "execute_result"
    }
   ],
   "source": [
    "parser = argparse.ArgumentParser()\n",
    "\n",
    "# nargs=N - N arguments from the command line will be gathered together into a list\n",
    "parser.add_argument('--foo', nargs=2)\n",
    "parser.add_argument('bar', nargs=1)\n",
    "parser.parse_args('c --foo a b'.split())"
   ]
  },
  {
   "cell_type": "markdown",
   "metadata": {},
   "source": [
    "## nargs='?'\n",
    "\n",
    "\n",
    "1. One argument will be consumed from the command line if possible, and produced as a single item. \n",
    "\n",
    "2. If no command-line argument is present, the value from default will be produced. \n",
    "\n",
    "3. For optional arguments, there is an additional case - the option string is present but not followed by a command-line argument. In this case the value from const will be produced."
   ]
  },
  {
   "cell_type": "code",
   "execution_count": 50,
   "metadata": {},
   "outputs": [
    {
     "data": {
      "text/plain": [
       "_StoreAction(option_strings=[], dest='bar', nargs='?', const=None, default='d', type=None, choices=None, help=None, metavar=None)"
      ]
     },
     "execution_count": 50,
     "metadata": {},
     "output_type": "execute_result"
    }
   ],
   "source": [
    "parser = argparse.ArgumentParser()\n",
    "\n",
    "parser.add_argument('--foo', nargs='?', const='c', default='d')\n",
    "parser.add_argument('bar', nargs='?', default='d')"
   ]
  },
  {
   "cell_type": "code",
   "execution_count": 51,
   "metadata": {},
   "outputs": [
    {
     "data": {
      "text/plain": [
       "Namespace(bar='XX', foo='YY')"
      ]
     },
     "execution_count": 51,
     "metadata": {},
     "output_type": "execute_result"
    }
   ],
   "source": [
    "# One argument will be consumed from the command line if possible, and produced as a single item\n",
    "parser.parse_args(['XX', '--foo', 'YY'])"
   ]
  },
  {
   "cell_type": "code",
   "execution_count": 21,
   "metadata": {},
   "outputs": [
    {
     "data": {
      "text/plain": [
       "Namespace(bar='XX', foo='c')"
      ]
     },
     "execution_count": 21,
     "metadata": {},
     "output_type": "execute_result"
    }
   ],
   "source": [
    "# For optional arguments, if the option string is present but not followed by a command-line argument,\n",
    "# then the value from const will be produced.\n",
    "parser.parse_args(['XX', '--foo'])"
   ]
  },
  {
   "cell_type": "code",
   "execution_count": 23,
   "metadata": {},
   "outputs": [
    {
     "data": {
      "text/plain": [
       "Namespace(bar='d', foo='d')"
      ]
     },
     "execution_count": 23,
     "metadata": {},
     "output_type": "execute_result"
    }
   ],
   "source": [
    "# If no command-line argument is present, the value from default will be produced.\n",
    "parser.parse_args([])"
   ]
  },
  {
   "cell_type": "markdown",
   "metadata": {},
   "source": [
    "## Optional input and output files\n",
    "\n",
    "A common use of nargs='?' is to allow optional input and output files:"
   ]
  },
  {
   "cell_type": "code",
   "execution_count": 27,
   "metadata": {},
   "outputs": [
    {
     "data": {
      "text/plain": [
       "Namespace(infile=<_io.TextIOWrapper name='mechanics/input.txt' mode='r' encoding='UTF-8'>, outfile=<_io.TextIOWrapper name='mechanics/output.txt' mode='w' encoding='UTF-8'>)"
      ]
     },
     "execution_count": 27,
     "metadata": {},
     "output_type": "execute_result"
    }
   ],
   "source": [
    "import sys\n",
    "\n",
    "parser = argparse.ArgumentParser()\n",
    "parser.add_argument('infile', nargs='?', type=argparse.FileType('r'),\n",
    "                     default=sys.stdin)\n",
    "parser.add_argument('outfile', nargs='?', type=argparse.FileType('w'),\n",
    "                     default=sys.stdout)\n",
    "parser.parse_args(['mechanics/input.txt', 'mechanics/output.txt'])"
   ]
  },
  {
   "cell_type": "code",
   "execution_count": 29,
   "metadata": {},
   "outputs": [
    {
     "data": {
      "text/plain": [
       "Namespace(infile=<_io.TextIOWrapper name='<stdin>' mode='r' encoding='UTF-8'>, outfile=<ipykernel.iostream.OutStream object at 0x7f5ec0bd9cc0>)"
      ]
     },
     "execution_count": 29,
     "metadata": {},
     "output_type": "execute_result"
    }
   ],
   "source": [
    "parser.parse_args([])"
   ]
  },
  {
   "cell_type": "markdown",
   "metadata": {},
   "source": [
    "## nargs='*' or '+'\n",
    "\n",
    "All command-line arguments present are gathered into a list."
   ]
  },
  {
   "cell_type": "code",
   "execution_count": 24,
   "metadata": {},
   "outputs": [
    {
     "data": {
      "text/plain": [
       "Namespace(foo=['a', 'b'])"
      ]
     },
     "execution_count": 24,
     "metadata": {},
     "output_type": "execute_result"
    }
   ],
   "source": [
    "parser = argparse.ArgumentParser(prog='PROG')\n",
    "parser.add_argument('foo', nargs='+')\n",
    "parser.parse_args(['a', 'b'])"
   ]
  },
  {
   "cell_type": "markdown",
   "metadata": {},
   "source": [
    "## default\n",
    "\n",
    "The default keyword argument of add_argument(), whose value defaults to None, specifies what value should be used if the command-line argument is not present. \n",
    "\n",
    "For optional arguments, the default value is used when the option string was not present at the command line"
   ]
  },
  {
   "cell_type": "code",
   "execution_count": 37,
   "metadata": {},
   "outputs": [
    {
     "data": {
      "text/plain": [
       "Namespace(foo='2')"
      ]
     },
     "execution_count": 37,
     "metadata": {},
     "output_type": "execute_result"
    }
   ],
   "source": [
    "parser = argparse.ArgumentParser()\n",
    "parser.add_argument('--foo', default=42)\n",
    "parser.parse_args(['--foo', '2'])"
   ]
  },
  {
   "cell_type": "code",
   "execution_count": 31,
   "metadata": {},
   "outputs": [
    {
     "data": {
      "text/plain": [
       "Namespace(foo=42)"
      ]
     },
     "execution_count": 31,
     "metadata": {},
     "output_type": "execute_result"
    }
   ],
   "source": [
    "parser.parse_args([])"
   ]
  },
  {
   "cell_type": "markdown",
   "metadata": {},
   "source": [
    "## type\n",
    "\n",
    "The type keyword argument of add_argument() allows any necessary type-checking and type conversions to be performed."
   ]
  },
  {
   "cell_type": "code",
   "execution_count": 43,
   "metadata": {},
   "outputs": [
    {
     "data": {
      "text/plain": [
       "Namespace(height='10', length=10, width=10.5)"
      ]
     },
     "execution_count": 43,
     "metadata": {},
     "output_type": "execute_result"
    }
   ],
   "source": [
    "parser = argparse.ArgumentParser(prog='PROG')\n",
    "parser.add_argument('--height', default='10')\n",
    "# the parser applies any type conversion argument before setting the attribute on the Namespace return value\n",
    "parser.add_argument('--length', default='10', type = int) \n",
    "parser.add_argument('--width', default=10.5, type = int)\n",
    "parser.parse_args([])"
   ]
  },
  {
   "cell_type": "markdown",
   "metadata": {},
   "source": [
    "## type=callable\n",
    "\n",
    "type can take any callable that takes a single string argument and returns the converted value. This is a neat trick!!!"
   ]
  },
  {
   "cell_type": "code",
   "execution_count": 52,
   "metadata": {},
   "outputs": [
    {
     "data": {
      "text/plain": [
       "Namespace(foo=9)"
      ]
     },
     "execution_count": 52,
     "metadata": {},
     "output_type": "execute_result"
    }
   ],
   "source": [
    "import math\n",
    "\n",
    "def perfect_square(string):\n",
    "    value = int(string)\n",
    "    sqrt = math.sqrt(value)\n",
    "    if sqrt != int(sqrt):\n",
    "        msg = \"%r is not a perfect square\" % string\n",
    "        raise argparse.ArgumentTypeError(msg)\n",
    "    return value\n",
    "\n",
    "parser = argparse.ArgumentParser(prog='PROG')\n",
    "parser.add_argument('foo', type=perfect_square)\n",
    "parser.parse_args(['9'])"
   ]
  },
  {
   "cell_type": "code",
   "execution_count": 48,
   "metadata": {},
   "outputs": [
    {
     "name": "stderr",
     "output_type": "stream",
     "text": [
      "usage: PROG [-h] foo\n",
      "PROG: error: argument foo: '18' is not a perfect square\n"
     ]
    },
    {
     "ename": "SystemExit",
     "evalue": "2",
     "output_type": "error",
     "traceback": [
      "An exception has occurred, use %tb to see the full traceback.\n",
      "\u001b[0;31mSystemExit\u001b[0m\u001b[0;31m:\u001b[0m 2\n"
     ]
    },
    {
     "name": "stderr",
     "output_type": "stream",
     "text": [
      "/usr/local/lib/python3.5/dist-packages/IPython/core/interactiveshell.py:2870: UserWarning: To exit: use 'exit', 'quit', or Ctrl-D.\n",
      "  warn(\"To exit: use 'exit', 'quit', or Ctrl-D.\", stacklevel=1)\n"
     ]
    }
   ],
   "source": [
    "parser.parse_args(['18'])"
   ]
  },
  {
   "cell_type": "markdown",
   "metadata": {},
   "source": [
    "## choice\n",
    "\n",
    "The choices keyword argument can be used to check against a range of values:"
   ]
  },
  {
   "cell_type": "code",
   "execution_count": 50,
   "metadata": {},
   "outputs": [
    {
     "data": {
      "text/plain": [
       "Namespace(move='rock')"
      ]
     },
     "execution_count": 50,
     "metadata": {},
     "output_type": "execute_result"
    }
   ],
   "source": [
    "parser = argparse.ArgumentParser(prog='game.py')\n",
    "parser.add_argument('move', choices=['rock', 'paper', 'scissors'])\n",
    "parser.parse_args(['rock'])\n"
   ]
  },
  {
   "cell_type": "code",
   "execution_count": 51,
   "metadata": {},
   "outputs": [
    {
     "name": "stderr",
     "output_type": "stream",
     "text": [
      "usage: game.py [-h] {rock,paper,scissors}\n",
      "game.py: error: argument move: invalid choice: 'fire' (choose from 'rock', 'paper', 'scissors')\n"
     ]
    },
    {
     "ename": "SystemExit",
     "evalue": "2",
     "output_type": "error",
     "traceback": [
      "An exception has occurred, use %tb to see the full traceback.\n",
      "\u001b[0;31mSystemExit\u001b[0m\u001b[0;31m:\u001b[0m 2\n"
     ]
    },
    {
     "name": "stderr",
     "output_type": "stream",
     "text": [
      "/usr/local/lib/python3.5/dist-packages/IPython/core/interactiveshell.py:2870: UserWarning: To exit: use 'exit', 'quit', or Ctrl-D.\n",
      "  warn(\"To exit: use 'exit', 'quit', or Ctrl-D.\", stacklevel=1)\n"
     ]
    }
   ],
   "source": [
    "parser.parse_args(['fire'])"
   ]
  },
  {
   "cell_type": "code",
   "execution_count": 53,
   "metadata": {},
   "outputs": [
    {
     "name": "stdout",
     "output_type": "stream",
     "text": [
      "Namespace(door=3)\n"
     ]
    }
   ],
   "source": [
    "parser = argparse.ArgumentParser(prog='doors.py')\n",
    "parser.add_argument('door', type=int, choices=range(1, 4))\n",
    "print(parser.parse_args(['3']))\n"
   ]
  },
  {
   "cell_type": "code",
   "execution_count": 54,
   "metadata": {},
   "outputs": [
    {
     "name": "stderr",
     "output_type": "stream",
     "text": [
      "usage: doors.py [-h] {1,2,3}\n",
      "doors.py: error: argument door: invalid choice: 4 (choose from 1, 2, 3)\n"
     ]
    },
    {
     "ename": "SystemExit",
     "evalue": "2",
     "output_type": "error",
     "traceback": [
      "An exception has occurred, use %tb to see the full traceback.\n",
      "\u001b[0;31mSystemExit\u001b[0m\u001b[0;31m:\u001b[0m 2\n"
     ]
    },
    {
     "name": "stderr",
     "output_type": "stream",
     "text": [
      "/usr/local/lib/python3.5/dist-packages/IPython/core/interactiveshell.py:2870: UserWarning: To exit: use 'exit', 'quit', or Ctrl-D.\n",
      "  warn(\"To exit: use 'exit', 'quit', or Ctrl-D.\", stacklevel=1)\n"
     ]
    }
   ],
   "source": [
    "print(parser.parse_args(['4']))"
   ]
  },
  {
   "cell_type": "markdown",
   "metadata": {},
   "source": [
    "## required\n",
    "\n",
    "In general, the argparse module assumes that flags like -f and --bar indicate optional arguments.\n",
    "\n",
    "To make an option required, True can be specified for the required= keyword argument to add_argument()"
   ]
  },
  {
   "cell_type": "code",
   "execution_count": 55,
   "metadata": {},
   "outputs": [
    {
     "name": "stderr",
     "output_type": "stream",
     "text": [
      "usage: ipykernel_launcher.py [-h] --foo FOO\n",
      "ipykernel_launcher.py: error: the following arguments are required: --foo\n"
     ]
    },
    {
     "ename": "SystemExit",
     "evalue": "2",
     "output_type": "error",
     "traceback": [
      "An exception has occurred, use %tb to see the full traceback.\n",
      "\u001b[0;31mSystemExit\u001b[0m\u001b[0;31m:\u001b[0m 2\n"
     ]
    },
    {
     "name": "stderr",
     "output_type": "stream",
     "text": [
      "/usr/local/lib/python3.5/dist-packages/IPython/core/interactiveshell.py:2870: UserWarning: To exit: use 'exit', 'quit', or Ctrl-D.\n",
      "  warn(\"To exit: use 'exit', 'quit', or Ctrl-D.\", stacklevel=1)\n"
     ]
    }
   ],
   "source": [
    "parser = argparse.ArgumentParser()\n",
    "parser.add_argument('--foo', required=True)\n",
    "parser.parse_args([])"
   ]
  },
  {
   "cell_type": "markdown",
   "metadata": {},
   "source": [
    "## help\n",
    "\n",
    "When a user requests help (usually by using -h or --help at the command line), these help descriptions will be displayed with each argument."
   ]
  },
  {
   "cell_type": "code",
   "execution_count": 59,
   "metadata": {},
   "outputs": [
    {
     "data": {
      "text/plain": [
       "Namespace(bar=['BAR', 'NONe'], foo=False)"
      ]
     },
     "execution_count": 59,
     "metadata": {},
     "output_type": "execute_result"
    }
   ],
   "source": [
    "parser = argparse.ArgumentParser()\n",
    "parser.add_argument('--foo', action='store_true',\n",
    "                     help='foo the bars before frobbling')\n",
    "parser.add_argument('bar', nargs='+',\n",
    "                     help='one of the bars to be frobbled')\n",
    "parser.parse_args(['BAR', 'NONe'])"
   ]
  },
  {
   "cell_type": "code",
   "execution_count": 62,
   "metadata": {},
   "outputs": [
    {
     "name": "stdout",
     "output_type": "stream",
     "text": [
      "usage: ipykernel_launcher.py [-h] [--foo] bar [bar ...]\n",
      "\n",
      "positional arguments:\n",
      "  bar         one of the bars to be frobbled\n",
      "\n",
      "optional arguments:\n",
      "  -h, --help  show this help message and exit\n",
      "  --foo       foo the bars before frobbling\n"
     ]
    },
    {
     "ename": "SystemExit",
     "evalue": "0",
     "output_type": "error",
     "traceback": [
      "An exception has occurred, use %tb to see the full traceback.\n",
      "\u001b[0;31mSystemExit\u001b[0m\u001b[0;31m:\u001b[0m 0\n"
     ]
    },
    {
     "name": "stderr",
     "output_type": "stream",
     "text": [
      "/usr/local/lib/python3.5/dist-packages/IPython/core/interactiveshell.py:2870: UserWarning: To exit: use 'exit', 'quit', or Ctrl-D.\n",
      "  warn(\"To exit: use 'exit', 'quit', or Ctrl-D.\", stacklevel=1)\n"
     ]
    }
   ],
   "source": [
    "parser.parse_args(['--h'])"
   ]
  },
  {
   "cell_type": "markdown",
   "metadata": {},
   "source": [
    "## parse_args() method\n",
    "\n",
    "Convert argument strings to objects and assign them as attributes of the namespace. Return the populated namespace. By default, the argument strings are taken from sys.argv, and a new empty Namespace object is created for the attributes.\n",
    "\n",
    "The parse_args() method supports several ways of specifying the value of an option:"
   ]
  },
  {
   "cell_type": "code",
   "execution_count": 66,
   "metadata": {},
   "outputs": [
    {
     "data": {
      "text/plain": [
       "Namespace(foo=None, x='X')"
      ]
     },
     "execution_count": 66,
     "metadata": {},
     "output_type": "execute_result"
    }
   ],
   "source": [
    "parser = argparse.ArgumentParser(prog='PROG')\n",
    "parser.add_argument('-x')\n",
    "parser.add_argument('--foo')\n",
    "parser.parse_args(['-x', 'X'])"
   ]
  },
  {
   "cell_type": "code",
   "execution_count": 67,
   "metadata": {},
   "outputs": [
    {
     "data": {
      "text/plain": [
       "Namespace(foo='FOO', x=None)"
      ]
     },
     "execution_count": 67,
     "metadata": {},
     "output_type": "execute_result"
    }
   ],
   "source": [
    "parser.parse_args(['--foo=FOO'])"
   ]
  },
  {
   "cell_type": "markdown",
   "metadata": {},
   "source": [
    "## namespace=object\n",
    "It may also be useful to have an ArgumentParser assign attributes to an already existing object, rather than a new Namespace object. This can be achieved by specifying the namespace= keyword argument.\n",
    "\n",
    "A rather neat trick!!!"
   ]
  },
  {
   "cell_type": "code",
   "execution_count": 69,
   "metadata": {},
   "outputs": [
    {
     "data": {
      "text/plain": [
       "'BAR'"
      ]
     },
     "execution_count": 69,
     "metadata": {},
     "output_type": "execute_result"
    }
   ],
   "source": [
    "class C(object):\n",
    "    pass\n",
    "\n",
    "c = C()\n",
    "parser = argparse.ArgumentParser()\n",
    "parser.add_argument('--foo')\n",
    "parser.parse_args(args=['--foo', 'BAR'], namespace=c)\n",
    "\n",
    "# This is rather cool!!!!\n",
    "c.foo"
   ]
  },
  {
   "cell_type": "markdown",
   "metadata": {},
   "source": [
    "## fully_connected_feed.py\n",
    "\n",
    "The following code implements the command-line interface for fully_connected_feed.py."
   ]
  },
  {
   "cell_type": "code",
   "execution_count": 23,
   "metadata": {},
   "outputs": [
    {
     "data": {
      "text/plain": [
       "_StoreTrueAction(option_strings=['--fake_data'], dest='fake_data', nargs=0, const=True, default=False, type=None, choices=None, help='If true, uses fake data for unit testing.', metavar=None)"
      ]
     },
     "execution_count": 23,
     "metadata": {},
     "output_type": "execute_result"
    }
   ],
   "source": [
    "parser = argparse.ArgumentParser()\n",
    "    \n",
    "parser.add_argument(\n",
    "      '--learning_rate',\n",
    "      type=float,\n",
    "      default=0.01,\n",
    "      help='Initial learning rate.'\n",
    ")\n",
    "\n",
    "parser.add_argument(\n",
    "      '--max_steps',\n",
    "      type=int,\n",
    "      default=10000,\n",
    "      help='Number of steps to run trainer.'\n",
    ")\n",
    "    \n",
    "parser.add_argument(\n",
    "      '--hidden1',\n",
    "      type=int,\n",
    "      default=128,\n",
    "      help='Number of units in hidden layer 1.'\n",
    ")\n",
    "\n",
    "parser.add_argument(\n",
    "      '--hidden2',\n",
    "      type=int,\n",
    "      default=32,\n",
    "      help='Number of units in hidden layer 2.'\n",
    ")\n",
    "    \n",
    "parser.add_argument(\n",
    "      '--batch_size',\n",
    "      type=int,\n",
    "      default=100,\n",
    "      help='Batch size.  Must divide evenly into the dataset sizes.'\n",
    ")\n",
    "\n",
    "parser.add_argument(\n",
    "      '--input_data_dir',\n",
    "      type=str,\n",
    "      default='/tmp/tensorflow/mnist/input_data',\n",
    "      help='Directory to put the input data.'\n",
    ")\n",
    "    \n",
    "parser.add_argument(\n",
    "      '--log_dir',\n",
    "      type=str,\n",
    "      default='/tmp/tensorflow/mnist/logs/fully_connected_feed',\n",
    "      help='Directory to put the log data.'\n",
    ")\n",
    "\n",
    "parser.add_argument(\n",
    "      '--fake_data',\n",
    "      default=False,\n",
    "      help='If true, uses fake data for unit testing.',\n",
    "      action='store_true'\n",
    ")\n",
    "\n",
    "\n"
   ]
  },
  {
   "cell_type": "code",
   "execution_count": 58,
   "metadata": {},
   "outputs": [
    {
     "name": "stdout",
     "output_type": "stream",
     "text": [
      "usage: ipykernel_launcher.py [-h] [--learning_rate LEARNING_RATE]\n",
      "                             [--max_steps MAX_STEPS] [--hidden1 HIDDEN1]\n",
      "                             [--hidden2 HIDDEN2] [--batch_size BATCH_SIZE]\n",
      "                             [--input_data_dir INPUT_DATA_DIR]\n",
      "                             [--log_dir LOG_DIR] [--fake_data]\n",
      "\n",
      "optional arguments:\n",
      "  -h, --help            show this help message and exit\n",
      "  --learning_rate LEARNING_RATE\n",
      "                        Initial learning rate.\n",
      "  --max_steps MAX_STEPS\n",
      "                        Number of steps to run trainer.\n",
      "  --hidden1 HIDDEN1     Number of units in hidden layer 1.\n",
      "  --hidden2 HIDDEN2     Number of units in hidden layer 2.\n",
      "  --batch_size BATCH_SIZE\n",
      "                        Batch size. Must divide evenly into the dataset sizes.\n",
      "  --input_data_dir INPUT_DATA_DIR\n",
      "                        Directory to put the input data.\n",
      "  --log_dir LOG_DIR     Directory to put the log data.\n",
      "  --fake_data           If true, uses fake data for unit testing.\n"
     ]
    }
   ],
   "source": [
    "parser.print_help()"
   ]
  },
  {
   "cell_type": "code",
   "execution_count": 59,
   "metadata": {},
   "outputs": [
    {
     "data": {
      "text/plain": [
       "Namespace(batch_size=100, fake_data=False, hidden1=128, hidden2=32, input_data_dir='/tmp/tensorflow/mnist/input_data', learning_rate=0.01, log_dir='/tmp/tensorflow/mnist/logs/fully_connected_feed', max_steps=2000)"
      ]
     },
     "execution_count": 59,
     "metadata": {},
     "output_type": "execute_result"
    }
   ],
   "source": [
    "# Sometimes a script may only parse a few of the command-line arguments, passing the remaining arguments on to another \n",
    "# script or program. parse_known_args() returns a two item tuple containing the populated namespace (into FLAG) and the\n",
    "# list of remaining argument strings.\n",
    "FLAGS, unparsed = parser.parse_known_args(['--max_steps','2000'])\n",
    "\n",
    "# FLAGS is the Namespace which stores all the parameters\n",
    "\n",
    "FLAGS"
   ]
  },
  {
   "cell_type": "code",
   "execution_count": 45,
   "metadata": {},
   "outputs": [
    {
     "data": {
      "text/plain": [
       "['-f',\n",
       " '/run/user/1000/jupyter/kernel-0ed297df-e44e-4e8a-8882-a58c492bc03f.json']"
      ]
     },
     "execution_count": 45,
     "metadata": {},
     "output_type": "execute_result"
    }
   ],
   "source": [
    "unparsed"
   ]
  },
  {
   "cell_type": "markdown",
   "metadata": {},
   "source": [
    "## Implemented in command_line.py\n",
    "\n",
    "It works as advertised!!!\n",
    "\n",
    "```sh\n",
    "$ python ./mechanics/command_line.py --help \n",
    "usage: command_line.py [-h] [--learning_rate LEARNING_RATE]\n",
    "                       [--max_steps MAX_STEPS] [--hidden1 HIDDEN1]\n",
    "                       [--hidden2 HIDDEN2] [--batch_size BATCH_SIZE]\n",
    "                       [--input_data_dir INPUT_DATA_DIR] [--log_dir LOG_DIR]\n",
    "                       [--fake_data]\n",
    "\n",
    "optional arguments:\n",
    "  -h, --help            show this help message and exit\n",
    "  --learning_rate LEARNING_RATE\n",
    "                        Initial learning rate.\n",
    "  --max_steps MAX_STEPS\n",
    "                        Number of steps to run trainer.\n",
    "  --hidden1 HIDDEN1     Number of units in hidden layer 1.\n",
    "  --hidden2 HIDDEN2     Number of units in hidden layer 2.\n",
    "  --batch_size BATCH_SIZE\n",
    "                        Batch size. Must divide evenly into the dataset sizes.\n",
    "  --input_data_dir INPUT_DATA_DIR\n",
    "                        Directory to put the input data.\n",
    "  --log_dir LOG_DIR     Directory to put the log data.\n",
    "  --fake_data           If true, uses fake data for unit testing.\n",
    "```\n",
    "\n",
    "```sh\n",
    "$ python3 ./mechanics/command_line.py\n",
    "This script is being run directly\n",
    "There is no code yet in this python file!!!\n",
    "```"
   ]
  },
  {
   "cell_type": "code",
   "execution_count": null,
   "metadata": {
    "collapsed": true
   },
   "outputs": [],
   "source": []
  }
 ],
 "metadata": {
  "kernelspec": {
   "display_name": "Python 3",
   "language": "python",
   "name": "python3"
  },
  "language_info": {
   "codemirror_mode": {
    "name": "ipython",
    "version": 3
   },
   "file_extension": ".py",
   "mimetype": "text/x-python",
   "name": "python",
   "nbconvert_exporter": "python",
   "pygments_lexer": "ipython3",
   "version": "3.5.2"
  }
 },
 "nbformat": 4,
 "nbformat_minor": 2
}
